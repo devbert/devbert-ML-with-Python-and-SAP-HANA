{
 "cells": [
  {
   "cell_type": "markdown",
   "metadata": {},
   "source": [
    "# SAP HANA and Python - technical verification use case"
   ]
  },
  {
   "cell_type": "markdown",
   "metadata": {},
   "source": [
    "## Use Case\n",
    "* Predict if passenger from Titanic would survive or not based on several variables in the training and test set. Its a very popular dataset for machine learning. The training and test set I downloaded from kaggle\n",
    "\n",
    "### Goal of this simple use case\n",
    "* examine technical feasibility of classification with Python and SAP HANA\n",
    "* execution of training operations on SAP HANA\n"
   ]
  },
  {
   "cell_type": "markdown",
   "metadata": {},
   "source": [
    "## HANA server\n",
    "Installed HANA Version: HANA 2 SP03  \n",
    "Scriptserver needs to be activated: 1650957 - SAP HANA Database: Starting the Script Server\n",
    "\n",
    "**Check if PAL installed:**\n",
    "* SELECT * FROM \"SYS\".\"AFL_AREAS\" WHERE AREA_NAME = 'AFLPAL';\n",
    "* SELECT * FROM \"SYS\".\"AFL_PACKAGES\" WHERE AREA_NAME = 'AFLPAL';\n",
    "* SELECT * FROM \"SYS\".\"AFL_FUNCTIONS\" WHERE AREA_NAME = 'AFLPAL';\n",
    "\n",
    "**Server info needed for connection:**\n",
    "* Logical Connection Host: <host>:port,\n",
    "* how to get port: SELECT * FROM SYS.M_SERVICES - then choose SQL port of Master Indexserver "
   ]
  },
  {
   "cell_type": "markdown",
   "metadata": {},
   "source": [
    "## Architecture\n",
    "\n",
    "<img src=\"02 Misc/architecture.PNG\"\n",
    "     alt=\"Markdown Monster icon\"\n",
    "     style=\"float: left; margin-right: 10px;\" />  \n",
    "AFL - Application Function Library  \n",
    "PAL - Predictive Analysis Library  \n",
    "APL - Automated Predictive Library  \n",
    "EML - External Machine Learning Library"
   ]
  },
  {
   "cell_type": "markdown",
   "metadata": {},
   "source": [
    "## Client - express edition\n",
    "For download and install Client:\n",
    "* https://developers.sap.com/tutorials/hxe-ua-register.html\n",
    "* https://developers.sap.com/tutorials/hxe-ua-download-binary.html\n",
    "* https://developers.sap.com/tutorials/hxe-ua-install-hdb-client-windows.html\n",
    "* install Jupyter Notebook (Anaconda Paket)\n",
    "\n",
    "Establish connection: \n",
    "* https://developers.sap.com/tutorials/hxe-python-connection.html"
   ]
  },
  {
   "cell_type": "markdown",
   "metadata": {},
   "source": [
    "# Example with use of PAL library"
   ]
  },
  {
   "cell_type": "markdown",
   "metadata": {},
   "source": [
    "## Goal of use case\n",
    "* examine technical feasibility of classification with Python and SAP HANA\n",
    "* execution of training operations on SAP HANA"
   ]
  },
  {
   "cell_type": "code",
   "execution_count": 15,
   "metadata": {},
   "outputs": [],
   "source": [
    "# Import statements\n",
    "import sys\n",
    "from hdbcli import dbapi\n",
    "from hana_ml import dataframe\n",
    "from hana_ml.algorithms.pal import trees\n",
    "from hana_ml.algorithms.pal import metrics\n",
    "import seaborn as sns\n",
    "import matplotlib.pyplot as plt"
   ]
  },
  {
   "cell_type": "code",
   "execution_count": 16,
   "metadata": {},
   "outputs": [],
   "source": [
    "# Establish connection\n",
    "conn = dataframe.ConnectionContext('host', port, <schema>, <pwd>)\n",
    "\n",
    "# Create the HANA dataframe (titanic_train) and point to the table.\n",
    "# Take care about correct data types in the table on the HANA system\n",
    "titanic_train= conn.table('TITANIC_TRAIN', schema=<schema>).select('PID', 'PCLASS', 'GENDER', 'AGE', 'SIBSP', 'PARCH', 'FARE', 'SURVIVED')\n",
    "titanic_test= conn.table(\"TITANIC_TEST\", schema=<schema>).select('PID','PCLASS', 'GENDER', 'AGE', 'SIBSP', 'PARCH', 'FARE')"
   ]
  },
  {
   "cell_type": "code",
   "execution_count": 17,
   "metadata": {},
   "outputs": [
    {
     "data": {
      "text/html": [
       "<div>\n",
       "<style scoped>\n",
       "    .dataframe tbody tr th:only-of-type {\n",
       "        vertical-align: middle;\n",
       "    }\n",
       "\n",
       "    .dataframe tbody tr th {\n",
       "        vertical-align: top;\n",
       "    }\n",
       "\n",
       "    .dataframe thead th {\n",
       "        text-align: right;\n",
       "    }\n",
       "</style>\n",
       "<table border=\"1\" class=\"dataframe\">\n",
       "  <thead>\n",
       "    <tr style=\"text-align: right;\">\n",
       "      <th></th>\n",
       "      <th>PID</th>\n",
       "      <th>PCLASS</th>\n",
       "      <th>GENDER</th>\n",
       "      <th>AGE</th>\n",
       "      <th>SIBSP</th>\n",
       "      <th>PARCH</th>\n",
       "      <th>FARE</th>\n",
       "      <th>SURVIVED</th>\n",
       "    </tr>\n",
       "  </thead>\n",
       "  <tbody>\n",
       "    <tr>\n",
       "      <th>0</th>\n",
       "      <td>1</td>\n",
       "      <td>3</td>\n",
       "      <td>male</td>\n",
       "      <td>22.0</td>\n",
       "      <td>1</td>\n",
       "      <td>0</td>\n",
       "      <td>7.2500</td>\n",
       "      <td>Survived</td>\n",
       "    </tr>\n",
       "    <tr>\n",
       "      <th>1</th>\n",
       "      <td>2</td>\n",
       "      <td>1</td>\n",
       "      <td>female</td>\n",
       "      <td>38.0</td>\n",
       "      <td>1</td>\n",
       "      <td>0</td>\n",
       "      <td>71.2833</td>\n",
       "      <td>Did not survive</td>\n",
       "    </tr>\n",
       "    <tr>\n",
       "      <th>2</th>\n",
       "      <td>3</td>\n",
       "      <td>3</td>\n",
       "      <td>female</td>\n",
       "      <td>26.0</td>\n",
       "      <td>0</td>\n",
       "      <td>0</td>\n",
       "      <td>7.9250</td>\n",
       "      <td>Did not survive</td>\n",
       "    </tr>\n",
       "    <tr>\n",
       "      <th>3</th>\n",
       "      <td>4</td>\n",
       "      <td>1</td>\n",
       "      <td>female</td>\n",
       "      <td>35.0</td>\n",
       "      <td>1</td>\n",
       "      <td>0</td>\n",
       "      <td>53.1000</td>\n",
       "      <td>Did not survive</td>\n",
       "    </tr>\n",
       "    <tr>\n",
       "      <th>4</th>\n",
       "      <td>5</td>\n",
       "      <td>3</td>\n",
       "      <td>male</td>\n",
       "      <td>35.0</td>\n",
       "      <td>0</td>\n",
       "      <td>0</td>\n",
       "      <td>8.0500</td>\n",
       "      <td>Survived</td>\n",
       "    </tr>\n",
       "  </tbody>\n",
       "</table>\n",
       "</div>"
      ],
      "text/plain": [
       "   PID  PCLASS  GENDER   AGE  SIBSP  PARCH     FARE         SURVIVED\n",
       "0    1       3    male  22.0      1      0   7.2500         Survived\n",
       "1    2       1  female  38.0      1      0  71.2833  Did not survive\n",
       "2    3       3  female  26.0      0      0   7.9250  Did not survive\n",
       "3    4       1  female  35.0      1      0  53.1000  Did not survive\n",
       "4    5       3    male  35.0      0      0   8.0500         Survived"
      ]
     },
     "execution_count": 17,
     "metadata": {},
     "output_type": "execute_result"
    }
   ],
   "source": [
    "titanic_train.head(5).collect()"
   ]
  },
  {
   "cell_type": "markdown",
   "metadata": {},
   "source": [
    "## EDA, data cleaning and feature engineering\n",
    "Not in scope of this technical test use case. But for test purposes I did some minor data exploration. And you will also see that a lot of data cleaning and feature engineering would be necessary to get a good model. If you find time you can do this ;-)"
   ]
  },
  {
   "cell_type": "code",
   "execution_count": 18,
   "metadata": {},
   "outputs": [
    {
     "data": {
      "text/html": [
       "<div>\n",
       "<style scoped>\n",
       "    .dataframe tbody tr th:only-of-type {\n",
       "        vertical-align: middle;\n",
       "    }\n",
       "\n",
       "    .dataframe tbody tr th {\n",
       "        vertical-align: top;\n",
       "    }\n",
       "\n",
       "    .dataframe thead th {\n",
       "        text-align: right;\n",
       "    }\n",
       "</style>\n",
       "<table border=\"1\" class=\"dataframe\">\n",
       "  <thead>\n",
       "    <tr style=\"text-align: right;\">\n",
       "      <th></th>\n",
       "      <th>column</th>\n",
       "      <th>count</th>\n",
       "      <th>unique</th>\n",
       "      <th>nulls</th>\n",
       "      <th>mean</th>\n",
       "      <th>std</th>\n",
       "      <th>min</th>\n",
       "      <th>max</th>\n",
       "      <th>median</th>\n",
       "      <th>25_percent_cont</th>\n",
       "      <th>25_percent_disc</th>\n",
       "      <th>50_percent_cont</th>\n",
       "      <th>50_percent_disc</th>\n",
       "      <th>75_percent_cont</th>\n",
       "      <th>75_percent_disc</th>\n",
       "    </tr>\n",
       "  </thead>\n",
       "  <tbody>\n",
       "    <tr>\n",
       "      <th>0</th>\n",
       "      <td>PID</td>\n",
       "      <td>891</td>\n",
       "      <td>891</td>\n",
       "      <td>0</td>\n",
       "      <td>446.000000</td>\n",
       "      <td>257.353842</td>\n",
       "      <td>1.0</td>\n",
       "      <td>891.0000</td>\n",
       "      <td>446.0000</td>\n",
       "      <td>223.5000</td>\n",
       "      <td>223.0000</td>\n",
       "      <td>446.0000</td>\n",
       "      <td>446.0000</td>\n",
       "      <td>668.5</td>\n",
       "      <td>669.0</td>\n",
       "    </tr>\n",
       "    <tr>\n",
       "      <th>1</th>\n",
       "      <td>PCLASS</td>\n",
       "      <td>891</td>\n",
       "      <td>3</td>\n",
       "      <td>0</td>\n",
       "      <td>2.308641</td>\n",
       "      <td>0.836071</td>\n",
       "      <td>1.0</td>\n",
       "      <td>3.0000</td>\n",
       "      <td>3.0000</td>\n",
       "      <td>2.0000</td>\n",
       "      <td>2.0000</td>\n",
       "      <td>3.0000</td>\n",
       "      <td>3.0000</td>\n",
       "      <td>3.0</td>\n",
       "      <td>3.0</td>\n",
       "    </tr>\n",
       "    <tr>\n",
       "      <th>2</th>\n",
       "      <td>AGE</td>\n",
       "      <td>891</td>\n",
       "      <td>89</td>\n",
       "      <td>0</td>\n",
       "      <td>23.799293</td>\n",
       "      <td>17.596074</td>\n",
       "      <td>0.0</td>\n",
       "      <td>80.0000</td>\n",
       "      <td>24.0000</td>\n",
       "      <td>6.0000</td>\n",
       "      <td>6.0000</td>\n",
       "      <td>24.0000</td>\n",
       "      <td>24.0000</td>\n",
       "      <td>35.0</td>\n",
       "      <td>35.0</td>\n",
       "    </tr>\n",
       "    <tr>\n",
       "      <th>3</th>\n",
       "      <td>SIBSP</td>\n",
       "      <td>891</td>\n",
       "      <td>7</td>\n",
       "      <td>0</td>\n",
       "      <td>0.523007</td>\n",
       "      <td>1.102743</td>\n",
       "      <td>0.0</td>\n",
       "      <td>8.0000</td>\n",
       "      <td>0.0000</td>\n",
       "      <td>0.0000</td>\n",
       "      <td>0.0000</td>\n",
       "      <td>0.0000</td>\n",
       "      <td>0.0000</td>\n",
       "      <td>1.0</td>\n",
       "      <td>1.0</td>\n",
       "    </tr>\n",
       "    <tr>\n",
       "      <th>4</th>\n",
       "      <td>PARCH</td>\n",
       "      <td>891</td>\n",
       "      <td>7</td>\n",
       "      <td>0</td>\n",
       "      <td>0.381593</td>\n",
       "      <td>0.806057</td>\n",
       "      <td>0.0</td>\n",
       "      <td>6.0000</td>\n",
       "      <td>0.0000</td>\n",
       "      <td>0.0000</td>\n",
       "      <td>0.0000</td>\n",
       "      <td>0.0000</td>\n",
       "      <td>0.0000</td>\n",
       "      <td>0.0</td>\n",
       "      <td>0.0</td>\n",
       "    </tr>\n",
       "    <tr>\n",
       "      <th>5</th>\n",
       "      <td>FARE</td>\n",
       "      <td>891</td>\n",
       "      <td>248</td>\n",
       "      <td>0</td>\n",
       "      <td>32.204208</td>\n",
       "      <td>49.693429</td>\n",
       "      <td>0.0</td>\n",
       "      <td>512.3292</td>\n",
       "      <td>14.4542</td>\n",
       "      <td>7.9104</td>\n",
       "      <td>7.8958</td>\n",
       "      <td>14.4542</td>\n",
       "      <td>14.4542</td>\n",
       "      <td>31.0</td>\n",
       "      <td>31.0</td>\n",
       "    </tr>\n",
       "    <tr>\n",
       "      <th>6</th>\n",
       "      <td>GENDER</td>\n",
       "      <td>891</td>\n",
       "      <td>2</td>\n",
       "      <td>0</td>\n",
       "      <td>NaN</td>\n",
       "      <td>NaN</td>\n",
       "      <td>NaN</td>\n",
       "      <td>NaN</td>\n",
       "      <td>NaN</td>\n",
       "      <td>NaN</td>\n",
       "      <td>NaN</td>\n",
       "      <td>NaN</td>\n",
       "      <td>NaN</td>\n",
       "      <td>NaN</td>\n",
       "      <td>NaN</td>\n",
       "    </tr>\n",
       "    <tr>\n",
       "      <th>7</th>\n",
       "      <td>SURVIVED</td>\n",
       "      <td>891</td>\n",
       "      <td>2</td>\n",
       "      <td>0</td>\n",
       "      <td>NaN</td>\n",
       "      <td>NaN</td>\n",
       "      <td>NaN</td>\n",
       "      <td>NaN</td>\n",
       "      <td>NaN</td>\n",
       "      <td>NaN</td>\n",
       "      <td>NaN</td>\n",
       "      <td>NaN</td>\n",
       "      <td>NaN</td>\n",
       "      <td>NaN</td>\n",
       "      <td>NaN</td>\n",
       "    </tr>\n",
       "  </tbody>\n",
       "</table>\n",
       "</div>"
      ],
      "text/plain": [
       "     column  count  unique  nulls        mean         std  min       max  \\\n",
       "0       PID    891     891      0  446.000000  257.353842  1.0  891.0000   \n",
       "1    PCLASS    891       3      0    2.308641    0.836071  1.0    3.0000   \n",
       "2       AGE    891      89      0   23.799293   17.596074  0.0   80.0000   \n",
       "3     SIBSP    891       7      0    0.523007    1.102743  0.0    8.0000   \n",
       "4     PARCH    891       7      0    0.381593    0.806057  0.0    6.0000   \n",
       "5      FARE    891     248      0   32.204208   49.693429  0.0  512.3292   \n",
       "6    GENDER    891       2      0         NaN         NaN  NaN       NaN   \n",
       "7  SURVIVED    891       2      0         NaN         NaN  NaN       NaN   \n",
       "\n",
       "     median  25_percent_cont  25_percent_disc  50_percent_cont  \\\n",
       "0  446.0000         223.5000         223.0000         446.0000   \n",
       "1    3.0000           2.0000           2.0000           3.0000   \n",
       "2   24.0000           6.0000           6.0000          24.0000   \n",
       "3    0.0000           0.0000           0.0000           0.0000   \n",
       "4    0.0000           0.0000           0.0000           0.0000   \n",
       "5   14.4542           7.9104           7.8958          14.4542   \n",
       "6       NaN              NaN              NaN              NaN   \n",
       "7       NaN              NaN              NaN              NaN   \n",
       "\n",
       "   50_percent_disc  75_percent_cont  75_percent_disc  \n",
       "0         446.0000            668.5            669.0  \n",
       "1           3.0000              3.0              3.0  \n",
       "2          24.0000             35.0             35.0  \n",
       "3           0.0000              1.0              1.0  \n",
       "4           0.0000              0.0              0.0  \n",
       "5          14.4542             31.0             31.0  \n",
       "6              NaN              NaN              NaN  \n",
       "7              NaN              NaN              NaN  "
      ]
     },
     "execution_count": 18,
     "metadata": {},
     "output_type": "execute_result"
    }
   ],
   "source": [
    "titanic_train.describe().collect()"
   ]
  },
  {
   "cell_type": "code",
   "execution_count": 19,
   "metadata": {},
   "outputs": [
    {
     "data": {
      "image/png": "[encoded data removed]",
      "text/plain": [
       "<Figure size 432x288 with 1 Axes>"
      ]
     },
     "metadata": {
      "needs_background": "light"
     },
     "output_type": "display_data"
    }
   ],
   "source": [
    "# Explore Fare distribution \n",
    "g = sns.distplot(titanic_train.collect().FARE, label=\"Skewness : %.2f\"%(titanic_train.collect().FARE.skew()))\n",
    "g = g.legend(loc=\"best\")"
   ]
  },
  {
   "cell_type": "code",
   "execution_count": 20,
   "metadata": {},
   "outputs": [
    {
     "data": {
      "text/plain": [
       "<seaborn.axisgrid.FacetGrid at 0x1c27de50b38>"
      ]
     },
     "execution_count": 20,
     "metadata": {},
     "output_type": "execute_result"
    },
    {
     "data": {
      "image/png": "[encoded data removed]",
      "text/plain": [
       "<Figure size 1408x216 with 1 Axes>"
      ]
     },
     "metadata": {
      "needs_background": "light"
     },
     "output_type": "display_data"
    }
   ],
   "source": [
    "#check distribution of AGE by plotting\n",
    "a = sns.FacetGrid( titanic_train.collect(), hue = 'SURVIVED', aspect=6 )\n",
    "a.map(sns.kdeplot, 'AGE', shade= True )\n",
    "a.set(xlim=(0 , titanic_train.collect()['AGE'].max()))\n",
    "a.add_legend()"
   ]
  },
  {
   "cell_type": "code",
   "execution_count": 21,
   "metadata": {},
   "outputs": [
    {
     "data": {
      "image/png": "[encoded data removed]",
      "text/plain": [
       "<Figure size 432x216 with 2 Axes>"
      ]
     },
     "metadata": {
      "needs_background": "light"
     },
     "output_type": "display_data"
    }
   ],
   "source": [
    "# Explore Age vs Survived\n",
    "g = sns.FacetGrid(titanic_train.collect(), col='SURVIVED')\n",
    "g = g.map(sns.distplot, \"AGE\")"
   ]
  },
  {
   "cell_type": "markdown",
   "metadata": {},
   "source": [
    "## Modeling"
   ]
  },
  {
   "cell_type": "code",
   "execution_count": 22,
   "metadata": {},
   "outputs": [],
   "source": [
    "# Create the RandomForestClassifier instance and specify the parameters\n",
    "rfc = trees.RandomForestClassifier(conn_context=conn, n_estimators=3,\n",
    "                              max_features=3, random_state=2,\n",
    "                              split_threshold=0.00001,\n",
    "                              calculate_oob=True,\n",
    "                              min_samples_leaf=1, thread_ratio=1.0)\n",
    "\n",
    "# Store the necessary features in a list and invoke the fit method to train the algorithm\n",
    "rfc.fit(titanic_train, key='PID', label='SURVIVED')"
   ]
  },
  {
   "cell_type": "code",
   "execution_count": 23,
   "metadata": {},
   "outputs": [
    {
     "name": "stdout",
     "output_type": "stream",
     "text": [
      "Trained model accuracy score: 92.03%\n"
     ]
    }
   ],
   "source": [
    "# Print the accuracy score of this trained model using the score method\n",
    "print(\"Trained model accuracy score: {:.2f}\". format(rfc.score(data=titanic_train, key='PID')*100) + str('%'))"
   ]
  },
  {
   "cell_type": "markdown",
   "metadata": {},
   "source": [
    "## Interpretation\n",
    "Accuracy score looks good but I would not trust it because we didn't do EDA with data cleaning and feature engineering. Because this use case is mainly for proving the technical feasibility I go on with the prediction<br><br>"
   ]
  },
  {
   "cell_type": "code",
   "execution_count": 24,
   "metadata": {
    "scrolled": false
   },
   "outputs": [
    {
     "data": {
      "text/html": [
       "<div>\n",
       "<style scoped>\n",
       "    .dataframe tbody tr th:only-of-type {\n",
       "        vertical-align: middle;\n",
       "    }\n",
       "\n",
       "    .dataframe tbody tr th {\n",
       "        vertical-align: top;\n",
       "    }\n",
       "\n",
       "    .dataframe thead th {\n",
       "        text-align: right;\n",
       "    }\n",
       "</style>\n",
       "<table border=\"1\" class=\"dataframe\">\n",
       "  <thead>\n",
       "    <tr style=\"text-align: right;\">\n",
       "      <th></th>\n",
       "      <th>PID</th>\n",
       "      <th>SCORE</th>\n",
       "      <th>CONFIDENCE</th>\n",
       "    </tr>\n",
       "  </thead>\n",
       "  <tbody>\n",
       "    <tr>\n",
       "      <th>0</th>\n",
       "      <td>892</td>\n",
       "      <td>Survived</td>\n",
       "      <td>1.000000</td>\n",
       "    </tr>\n",
       "    <tr>\n",
       "      <th>1</th>\n",
       "      <td>893</td>\n",
       "      <td>Survived</td>\n",
       "      <td>0.666667</td>\n",
       "    </tr>\n",
       "    <tr>\n",
       "      <th>2</th>\n",
       "      <td>894</td>\n",
       "      <td>Survived</td>\n",
       "      <td>0.666667</td>\n",
       "    </tr>\n",
       "    <tr>\n",
       "      <th>3</th>\n",
       "      <td>895</td>\n",
       "      <td>Did not survive</td>\n",
       "      <td>0.666667</td>\n",
       "    </tr>\n",
       "    <tr>\n",
       "      <th>4</th>\n",
       "      <td>896</td>\n",
       "      <td>Did not survive</td>\n",
       "      <td>0.666667</td>\n",
       "    </tr>\n",
       "    <tr>\n",
       "      <th>5</th>\n",
       "      <td>897</td>\n",
       "      <td>Survived</td>\n",
       "      <td>1.000000</td>\n",
       "    </tr>\n",
       "    <tr>\n",
       "      <th>6</th>\n",
       "      <td>898</td>\n",
       "      <td>Did not survive</td>\n",
       "      <td>0.666667</td>\n",
       "    </tr>\n",
       "    <tr>\n",
       "      <th>7</th>\n",
       "      <td>899</td>\n",
       "      <td>Survived</td>\n",
       "      <td>1.000000</td>\n",
       "    </tr>\n",
       "    <tr>\n",
       "      <th>8</th>\n",
       "      <td>900</td>\n",
       "      <td>Did not survive</td>\n",
       "      <td>1.000000</td>\n",
       "    </tr>\n",
       "    <tr>\n",
       "      <th>9</th>\n",
       "      <td>901</td>\n",
       "      <td>Survived</td>\n",
       "      <td>1.000000</td>\n",
       "    </tr>\n",
       "  </tbody>\n",
       "</table>\n",
       "</div>"
      ],
      "text/plain": [
       "   PID            SCORE  CONFIDENCE\n",
       "0  892         Survived    1.000000\n",
       "1  893         Survived    0.666667\n",
       "2  894         Survived    0.666667\n",
       "3  895  Did not survive    0.666667\n",
       "4  896  Did not survive    0.666667\n",
       "5  897         Survived    1.000000\n",
       "6  898  Did not survive    0.666667\n",
       "7  899         Survived    1.000000\n",
       "8  900  Did not survive    1.000000\n",
       "9  901         Survived    1.000000"
      ]
     },
     "execution_count": 24,
     "metadata": {},
     "output_type": "execute_result"
    }
   ],
   "source": [
    "# do prediction and check data\n",
    "y_pred = rfc.predict(titanic_test, key=\"PID\", verbose=False)\n",
    "y_pred.head(10).collect()"
   ]
  },
  {
   "cell_type": "markdown",
   "metadata": {},
   "source": [
    "# Result\n",
    "* Implementation of RandomForest classification model in SAP HANA successful\n",
    "* All data intensive operations can be done in the HANA database"
   ]
  },
  {
   "cell_type": "markdown",
   "metadata": {},
   "source": [
    "## Export model to HANA\n",
    "Attention: this feature is still undocumented for PAL and might change\n",
    "See my question in SAP Community: https://answers.sap.com/questions/12684767/export-python-ml-model-to-hana-for-productive-use.html"
   ]
  },
  {
   "cell_type": "code",
   "execution_count": 25,
   "metadata": {},
   "outputs": [
    {
     "data": {
      "text/plain": [
       "<hana_ml.dataframe.DataFrame at 0x1c27de5b780>"
      ]
     },
     "execution_count": 25,
     "metadata": {},
     "output_type": "execute_result"
    }
   ],
   "source": [
    "model = rfc.model_.select('ROW_INDEX', 'MODEL_CONTENT') \n",
    "model.save(<schema>, \"TITANIC_RFC\") #overwriting not possible yet. Workaround: Create new table"
   ]
  },
  {
   "cell_type": "markdown",
   "metadata": {},
   "source": [
    "## Import model from HANA"
   ]
  },
  {
   "cell_type": "code",
   "execution_count": 26,
   "metadata": {},
   "outputs": [],
   "source": [
    "df_model_saved = dataframe.DataFrame(conn, 'select * from <schema>.TITANIC_RFC') \n",
    "tree_reg_saved = trees.RandomForestClassifier(conn) \n",
    "tree_reg_saved.model_ = df_model_saved.select('ROW_INDEX', 'MODEL_CONTENT')"
   ]
  },
  {
   "cell_type": "code",
   "execution_count": 27,
   "metadata": {},
   "outputs": [
    {
     "data": {
      "text/html": [
       "<div>\n",
       "<style scoped>\n",
       "    .dataframe tbody tr th:only-of-type {\n",
       "        vertical-align: middle;\n",
       "    }\n",
       "\n",
       "    .dataframe tbody tr th {\n",
       "        vertical-align: top;\n",
       "    }\n",
       "\n",
       "    .dataframe thead th {\n",
       "        text-align: right;\n",
       "    }\n",
       "</style>\n",
       "<table border=\"1\" class=\"dataframe\">\n",
       "  <thead>\n",
       "    <tr style=\"text-align: right;\">\n",
       "      <th></th>\n",
       "      <th>ROW_INDEX</th>\n",
       "      <th>MODEL_CONTENT</th>\n",
       "    </tr>\n",
       "  </thead>\n",
       "  <tbody>\n",
       "    <tr>\n",
       "      <th>0</th>\n",
       "      <td>0</td>\n",
       "      <td>&lt;PMML version=\"4.0\" xmlns=\"http://www.dmg.org/...</td>\n",
       "    </tr>\n",
       "    <tr>\n",
       "      <th>1</th>\n",
       "      <td>1</td>\n",
       "      <td>&lt;PMML version=\"4.0\" xmlns=\"http://www.dmg.org/...</td>\n",
       "    </tr>\n",
       "    <tr>\n",
       "      <th>2</th>\n",
       "      <td>2</td>\n",
       "      <td>=\"lt\" v=\"17.5\" /&gt;\\n&lt;sd v=\"Survived\" n=\"68\" /&gt;\\...</td>\n",
       "    </tr>\n",
       "    <tr>\n",
       "      <th>3</th>\n",
       "      <td>3</td>\n",
       "      <td>e&gt;\\n&lt;Node id=\"66\" sc=\"Did not survive\" n=\"7\" &gt;...</td>\n",
       "    </tr>\n",
       "    <tr>\n",
       "      <th>4</th>\n",
       "      <td>4</td>\n",
       "      <td>de id=\"102\" sc=\"Did not survive\" n=\"3\" &gt;\\n&lt;sp ...</td>\n",
       "    </tr>\n",
       "    <tr>\n",
       "      <th>5</th>\n",
       "      <td>5</td>\n",
       "      <td>lt\" v=\"49\" /&gt;\\n&lt;sd v=\"Survived\" n=\"0\" /&gt;\\n&lt;sd ...</td>\n",
       "    </tr>\n",
       "    <tr>\n",
       "      <th>6</th>\n",
       "      <td>6</td>\n",
       "      <td>0\" /&gt;\\n&lt;/Node&gt;\\n&lt;/Node&gt;\\n&lt;Node id=\"172\" sc=\"Di...</td>\n",
       "    </tr>\n",
       "    <tr>\n",
       "      <th>7</th>\n",
       "      <td>7</td>\n",
       "      <td>/&gt;\\n&lt;sd v=\"Did not survive\" n=\"10\" /&gt;\\n&lt;/Node&gt;...</td>\n",
       "    </tr>\n",
       "    <tr>\n",
       "      <th>8</th>\n",
       "      <td>8</td>\n",
       "      <td>&lt;PMML version=\"4.0\" xmlns=\"http://www.dmg.org/...</td>\n",
       "    </tr>\n",
       "    <tr>\n",
       "      <th>9</th>\n",
       "      <td>9</td>\n",
       "      <td>/&gt;\\n&lt;sd v=\"Did not survive\" n=\"3\" /&gt;\\n&lt;/Node&gt;...</td>\n",
       "    </tr>\n",
       "    <tr>\n",
       "      <th>10</th>\n",
       "      <td>10</td>\n",
       "      <td>d v=\"Survived\" n=\"3\" /&gt;\\n&lt;sd v=\"Did not surviv...</td>\n",
       "    </tr>\n",
       "    <tr>\n",
       "      <th>11</th>\n",
       "      <td>11</td>\n",
       "      <td>\" n=\"7\" &gt;\\n&lt;sp x=\"FARE\" op=\"lt\" v=\"28.8604\" /&gt;...</td>\n",
       "    </tr>\n",
       "    <tr>\n",
       "      <th>12</th>\n",
       "      <td>12</td>\n",
       "      <td>v=\"Did not survive\" n=\"4\" /&gt;\\n&lt;/Node&gt;\\n&lt;Node i...</td>\n",
       "    </tr>\n",
       "    <tr>\n",
       "      <th>13</th>\n",
       "      <td>13</td>\n",
       "      <td>&gt;\\n&lt;sp x=\"FARE\" op=\"ge\" v=\"34.875\" /&gt;\\n&lt;sd v=...</td>\n",
       "    </tr>\n",
       "    <tr>\n",
       "      <th>14</th>\n",
       "      <td>14</td>\n",
       "      <td>Did not survive\" n=\"1\" &gt;\\n&lt;sp x=\"SIBSP\" op=\"ge...</td>\n",
       "    </tr>\n",
       "    <tr>\n",
       "      <th>15</th>\n",
       "      <td>15</td>\n",
       "      <td>survive\" n=\"5\" &gt;\\n&lt;sp x=\"FARE\" op=\"ge\" v=\"31....</td>\n",
       "    </tr>\n",
       "    <tr>\n",
       "      <th>16</th>\n",
       "      <td>16</td>\n",
       "      <td>&lt;PMML version=\"4.0\" xmlns=\"http://www.dmg.org/...</td>\n",
       "    </tr>\n",
       "    <tr>\n",
       "      <th>17</th>\n",
       "      <td>17</td>\n",
       "      <td>=\"30\" sc=\"Survived\" n=\"7\" &gt;\\n&lt;sp x=\"FARE\" op=\"...</td>\n",
       "    </tr>\n",
       "    <tr>\n",
       "      <th>18</th>\n",
       "      <td>18</td>\n",
       "      <td>RE\" op=\"ge\" v=\"7.01249\" /&gt;\\n&lt;sd v=\"Survived\" n...</td>\n",
       "    </tr>\n",
       "    <tr>\n",
       "      <th>19</th>\n",
       "      <td>19</td>\n",
       "      <td>/&gt;\\n&lt;/Node&gt;\\n&lt;/Node&gt;\\n&lt;Node id=\"102\" sc=\"Surv...</td>\n",
       "    </tr>\n",
       "    <tr>\n",
       "      <th>20</th>\n",
       "      <td>20</td>\n",
       "      <td>v=\"23.7\" /&gt;\\n&lt;sd v=\"Survived\" n=\"2\" /&gt;\\n&lt;sd v=...</td>\n",
       "    </tr>\n",
       "    <tr>\n",
       "      <th>21</th>\n",
       "      <td>21</td>\n",
       "      <td>\"Did not survive\" n=\"164\" /&gt;\\n&lt;Node id=\"173\" s...</td>\n",
       "    </tr>\n",
       "    <tr>\n",
       "      <th>22</th>\n",
       "      <td>22</td>\n",
       "      <td>not survive\" n=\"20\" /&gt;\\n&lt;Node id=\"208\" sc=\"Did...</td>\n",
       "    </tr>\n",
       "    <tr>\n",
       "      <th>23</th>\n",
       "      <td>23</td>\n",
       "      <td>Did not survive\" n=\"36\" &gt;\\n&lt;sp x=\"FARE\" op=\"ge...</td>\n",
       "    </tr>\n",
       "  </tbody>\n",
       "</table>\n",
       "</div>"
      ],
      "text/plain": [
       "    ROW_INDEX                                      MODEL_CONTENT\n",
       "0           0  <PMML version=\"4.0\" xmlns=\"http://www.dmg.org/...\n",
       "1           1  <PMML version=\"4.0\" xmlns=\"http://www.dmg.org/...\n",
       "2           2  =\"lt\" v=\"17.5\" />\\n<sd v=\"Survived\" n=\"68\" />\\...\n",
       "3           3  e>\\n<Node id=\"66\" sc=\"Did not survive\" n=\"7\" >...\n",
       "4           4  de id=\"102\" sc=\"Did not survive\" n=\"3\" >\\n<sp ...\n",
       "5           5  lt\" v=\"49\" />\\n<sd v=\"Survived\" n=\"0\" />\\n<sd ...\n",
       "6           6  0\" />\\n</Node>\\n</Node>\\n<Node id=\"172\" sc=\"Di...\n",
       "7           7  />\\n<sd v=\"Did not survive\" n=\"10\" />\\n</Node>...\n",
       "8           8  <PMML version=\"4.0\" xmlns=\"http://www.dmg.org/...\n",
       "9           9   />\\n<sd v=\"Did not survive\" n=\"3\" />\\n</Node>...\n",
       "10         10  d v=\"Survived\" n=\"3\" />\\n<sd v=\"Did not surviv...\n",
       "11         11  \" n=\"7\" >\\n<sp x=\"FARE\" op=\"lt\" v=\"28.8604\" />...\n",
       "12         12  v=\"Did not survive\" n=\"4\" />\\n</Node>\\n<Node i...\n",
       "13         13   >\\n<sp x=\"FARE\" op=\"ge\" v=\"34.875\" />\\n<sd v=...\n",
       "14         14  Did not survive\" n=\"1\" >\\n<sp x=\"SIBSP\" op=\"ge...\n",
       "15         15   survive\" n=\"5\" >\\n<sp x=\"FARE\" op=\"ge\" v=\"31....\n",
       "16         16  <PMML version=\"4.0\" xmlns=\"http://www.dmg.org/...\n",
       "17         17  =\"30\" sc=\"Survived\" n=\"7\" >\\n<sp x=\"FARE\" op=\"...\n",
       "18         18  RE\" op=\"ge\" v=\"7.01249\" />\\n<sd v=\"Survived\" n...\n",
       "19         19   />\\n</Node>\\n</Node>\\n<Node id=\"102\" sc=\"Surv...\n",
       "20         20  v=\"23.7\" />\\n<sd v=\"Survived\" n=\"2\" />\\n<sd v=...\n",
       "21         21  \"Did not survive\" n=\"164\" />\\n<Node id=\"173\" s...\n",
       "22         22  not survive\" n=\"20\" />\\n<Node id=\"208\" sc=\"Did...\n",
       "23         23  Did not survive\" n=\"36\" >\\n<sp x=\"FARE\" op=\"ge..."
      ]
     },
     "execution_count": 27,
     "metadata": {},
     "output_type": "execute_result"
    }
   ],
   "source": [
    "tree_reg_saved.model_.collect()     # this is how the model is saved in the HANA database"
   ]
  },
  {
   "cell_type": "markdown",
   "metadata": {},
   "source": [
    "## Automation\n",
    "To have PAL or APL models retrained and applied automatically SAP Data Intelligence (SAP DI = Data Hub + ML in the cloud) can be used. You can deploy the Python syntax there as Python operator in a graph. You could use that SAP Data Intelligence also to expose the trained model as REST API web service."
   ]
  },
  {
   "cell_type": "code",
   "execution_count": null,
   "metadata": {},
   "outputs": [],
   "source": []
  }
 ],
 "metadata": {
  "kernelspec": {
   "display_name": "Python 3",
   "language": "python",
   "name": "python3"
  },
  "language_info": {
   "codemirror_mode": {
    "name": "ipython",
    "version": 3
   },
   "file_extension": ".py",
   "mimetype": "text/x-python",
   "name": "python",
   "nbconvert_exporter": "python",
   "pygments_lexer": "ipython3",
   "version": "3.7.3"
  }
 },
 "nbformat": 4,
 "nbformat_minor": 2
}
